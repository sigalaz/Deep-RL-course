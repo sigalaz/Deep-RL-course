{
 "cells": [
  {
   "cell_type": "code",
   "execution_count": 1,
   "id": "0f99d863",
   "metadata": {},
   "outputs": [],
   "source": [
    "import os\n",
    "# restart notebook\n",
    "#os.kill(os.getpid(), 9)"
   ]
  },
  {
   "cell_type": "code",
   "execution_count": 2,
   "id": "82f1793a",
   "metadata": {},
   "outputs": [
    {
     "data": {
      "text/plain": [
       "<pyvirtualdisplay.display.Display at 0x7f60c871c190>"
      ]
     },
     "execution_count": 2,
     "metadata": {},
     "output_type": "execute_result"
    }
   ],
   "source": [
    "# virtual display \n",
    "from pyvirtualdisplay import Display\n",
    "\n",
    "virtual_display = Display(visible=0, size=(1400,900))\n",
    "virtual_display.start()"
   ]
  },
  {
   "cell_type": "code",
   "execution_count": 3,
   "id": "b4f3eb27",
   "metadata": {},
   "outputs": [],
   "source": [
    "import gym\n",
    "\n",
    "from huggingface_sb3 import load_from_hub, package_to_hub, push_to_hub\n",
    "from huggingface_hub import notebook_login # To log to our Hugging Face account to be able to upload models to the Hub.\n",
    "\n",
    "from stable_baselines3 import PPO\n",
    "from stable_baselines3.common.evaluation import evaluate_policy\n",
    "from stable_baselines3.common.env_util import make_vec_env"
   ]
  },
  {
   "cell_type": "code",
   "execution_count": 4,
   "id": "b83a06e1",
   "metadata": {},
   "outputs": [
    {
     "name": "stdout",
     "output_type": "stream",
     "text": [
      "Action taken: 2\n",
      "Action taken: 1\n",
      "Action taken: 3\n",
      "Action taken: 3\n",
      "Action taken: 1\n",
      "Action taken: 3\n",
      "Action taken: 2\n",
      "Action taken: 3\n",
      "Action taken: 1\n",
      "Action taken: 1\n",
      "Action taken: 2\n",
      "Action taken: 3\n",
      "Action taken: 3\n",
      "Action taken: 3\n",
      "Action taken: 0\n",
      "Action taken: 3\n",
      "Action taken: 2\n",
      "Action taken: 1\n",
      "Action taken: 2\n",
      "Action taken: 3\n"
     ]
    }
   ],
   "source": [
    "import gym\n",
    "\n",
    "# Firtst, we create our environment called LunarLander-v2\n",
    "env = gym.make(\"LunarLander-v2\")\n",
    "\n",
    "# Then, we reset this environment\n",
    "observation = env.reset()\n",
    "\n",
    "for _ in range(20):\n",
    "    # Take a random action\n",
    "    action = env.action_space.sample()\n",
    "    print(\"Action taken:\", action)\n",
    "    \n",
    "    # Do this action in the environment and get\n",
    "    # next_state, reward, done and info\n",
    "    observation, reward, done, info = env.step(action)\n",
    "    \n",
    "    # If the game is done (in our case we land, crashed or timeout)\n",
    "    if done:\n",
    "        # Reset the environment\n",
    "        print(\"Environment is reset\")\n",
    "        observation = env.reset()"
   ]
  },
  {
   "cell_type": "code",
   "execution_count": 5,
   "id": "f4238038",
   "metadata": {},
   "outputs": [
    {
     "name": "stdout",
     "output_type": "stream",
     "text": [
      "_____OBSERVATION SPACE_____ \n",
      "\n",
      "Observation Space Shape (8,)\n",
      "Sample observation [-1.4011873  -0.8958607   0.96948975 -0.11884433  0.95865786 -0.5399154\n",
      " -0.42004403 -0.7763293 ]\n"
     ]
    }
   ],
   "source": [
    "# We create our environment with gym.make(\"<name_of_the_environment>\")\n",
    "env = gym.make(\"LunarLander-v2\")\n",
    "env.reset()\n",
    "print(\"_____OBSERVATION SPACE_____ \\n\")\n",
    "print(\"Observation Space Shape\", env.observation_space.shape)\n",
    "print(\"Sample observation\", env.observation_space.sample()) # Get a random observation"
   ]
  },
  {
   "cell_type": "markdown",
   "id": "db7ba674",
   "metadata": {},
   "source": [
    "We see with `Observation Space Shape (8,)` that the observation is a vector of size 8, where each value contains different information about the lander:\n",
    "- Horizontal pad coordinate (x)\n",
    "- Vertical pad coordinate (y)\n",
    "- Horizontal speed (x)\n",
    "- Vertical speed (y)\n",
    "- Angle\n",
    "- Angular speed\n",
    "- If the left leg has contact point touched the land\n",
    "- If the right leg has contact point touched the land\n"
   ]
  },
  {
   "cell_type": "code",
   "execution_count": 6,
   "id": "59740c49",
   "metadata": {},
   "outputs": [
    {
     "name": "stdout",
     "output_type": "stream",
     "text": [
      "\n",
      " _____ACTION SPACE_____ \n",
      "\n",
      "Action Space Shape 4\n",
      "Action Space Sample 3\n"
     ]
    }
   ],
   "source": [
    "print(\"\\n _____ACTION SPACE_____ \\n\")\n",
    "print(\"Action Space Shape\", env.action_space.n)\n",
    "print(\"Action Space Sample\", env.action_space.sample()) # Take a random action"
   ]
  },
  {
   "cell_type": "markdown",
   "id": "cb14af78",
   "metadata": {},
   "source": [
    "The action space (the set of possible actions the agent can take) is discrete with 4 actions available 🎮: \n",
    "\n",
    "- Do nothing,\n",
    "- Fire left orientation engine,\n",
    "- Fire the main engine,\n",
    "- Fire right orientation engine.\n",
    "\n",
    "Reward function (the function that will gives a reward at each timestep) 💰:\n",
    "\n",
    "- Moving from the top of the screen to the landing pad and zero speed is about 100~140 points.\n",
    "- Firing main engine is -0.3 each frame\n",
    "- Each leg ground contact is +10 points\n",
    "- Episode finishes if the lander crashes (additional - 100 points) or come to rest (+100 points)"
   ]
  },
  {
   "cell_type": "markdown",
   "id": "0061a794",
   "metadata": {},
   "source": [
    "#### Vectorized Environment\n",
    "- We create a vectorized environment (method for stacking multiple independent environments into a single environment) of 16 environments, this way, **we'll have more diverse experiences during the training.**"
   ]
  },
  {
   "cell_type": "code",
   "execution_count": 7,
   "id": "a8ae6b0c",
   "metadata": {},
   "outputs": [],
   "source": [
    "# Create the environment\n",
    "env = make_vec_env('LunarLander-v2', n_envs=32)"
   ]
  },
  {
   "cell_type": "code",
   "execution_count": 13,
   "id": "8e4d3ba3",
   "metadata": {},
   "outputs": [],
   "source": [
    "# Create the model\n",
    "model = PPO('MlpPolicy', env ,normalize_advantage=True, n_steps=512, batch_size=128, gae_lambda=0.98, \n",
    "            gamma=0.999, ent_coef=0.01, \n",
    "            )\n"
   ]
  },
  {
   "cell_type": "code",
   "execution_count": 15,
   "id": "22614c69",
   "metadata": {},
   "outputs": [],
   "source": [
    "model.learn(total_timesteps=1000000)\n",
    "model_name = \"ppo-LunarLander-v2\"\n",
    "model.save(model_name)"
   ]
  },
  {
   "cell_type": "code",
   "execution_count": null,
   "id": "d39c5c83",
   "metadata": {},
   "outputs": [],
   "source": []
  }
 ],
 "metadata": {
  "kernelspec": {
   "display_name": "Python 3 (ipykernel)",
   "language": "python",
   "name": "python3"
  },
  "language_info": {
   "codemirror_mode": {
    "name": "ipython",
    "version": 3
   },
   "file_extension": ".py",
   "mimetype": "text/x-python",
   "name": "python",
   "nbconvert_exporter": "python",
   "pygments_lexer": "ipython3",
   "version": "3.10.4"
  }
 },
 "nbformat": 4,
 "nbformat_minor": 5
}
